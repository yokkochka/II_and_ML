{
 "cells": [
  {
   "cell_type": "code",
   "execution_count": 1,
   "metadata": {},
   "outputs": [
    {
     "name": "stdout",
     "output_type": "stream",
     "text": [
      "hello\n"
     ]
    }
   ],
   "source": [
    "import spacy\n",
    "from spacy.lang.en.stop_words import STOP_WORDS\n",
    "import pandas as pd\n",
    "import csv\n",
    "\n",
    "import sys\n",
    "\n",
    "\n",
    "csv.field_size_limit(sys.maxsize)\n",
    "nlp = spacy.load(\"en_core_web_sm\")\n",
    "\n",
    "nlp.max_length = 2000000\n",
    "stopwords = STOP_WORDS\n",
    "\n",
    "def preprocess_text(text):\n",
    "    doc = nlp(text)\n",
    "    \n",
    "    result = [token.lemma_ for token in doc if token.lemma_ not in stopwords and not token.is_punct]\n",
    "    \n",
    "    return \" \".join(result)\n",
    "\n",
    "input_file = 'emotions.csv'\n",
    "output_file = 'lemma_emotion.csv'\n",
    "\n",
    "\n",
    "with open(input_file, 'r') as f, open(output_file, 'w', newline='') as out_f:\n",
    "    reader = csv.reader(f)\n",
    "    writer = csv.writer(out_f)\n",
    "    \n",
    "    try:\n",
    "        names = next(reader)\n",
    "        writer.writerow(names)\n",
    "    except StopIteration:\n",
    "        print(\"The input file is empty.\")\n",
    "        names = []\n",
    "\n",
    "    for row in reader:\n",
    "        row[4] = preprocess_text(row[4])\n",
    "        writer.writerow(row)\n",
    "        \n",
    "\n",
    "print(f\"Файл '{output_file}' успешно обновлен.\")\n",
    "\n",
    "try:\n",
    "    df = pd.read_csv('lemma_emotion.csv')\n",
    "    if df.empty:\n",
    "        raise ValueError(\"The file 'lemma_emotion.csv' is empty.\")\n",
    "    print(df.head(10))\n",
    "except pd.errors.EmptyDataError:\n",
    "    print(\"No columns to parse from file 'lemma_emotion.csv'.\")\n",
    "except ValueError as e:\n",
    "    print(e)\n"
   ]
  },
  {
   "cell_type": "code",
   "execution_count": 1,
   "metadata": {},
   "outputs": [
    {
     "name": "stderr",
     "output_type": "stream",
     "text": [
      "\n",
      "KeyboardInterrupt\n",
      "\n"
     ]
    }
   ],
   "source": [
    "from sklearn.preprocessing import LabelEncoder\n",
    "import pandas as pd\n",
    "\n",
    "# Загружаем данные\n",
    "df = pd.read_csv('token_lemma_filter_emotion.csv')\n",
    "\n",
    "# Создаем экземпляр LabelEncoder\n",
    "label_encoder = LabelEncoder()\n",
    "\n",
    "# Обрабатываем текстовые данные поэтапно\n",
    "def encode_text(text_series):\n",
    "    all_words = [word for text in text_series.astype(str) for word in text.split()]\n",
    "    label_encoder.fit(all_words)  # Обучаем LabelEncoder на всех уникальных словах\n",
    "    return text_series.astype(str).apply(lambda x: ' '.join(map(str, label_encoder.transform(x.split()))))\n",
    "\n",
    "# Для обработки большого количества данных поэтапно, разбиваем на куски\n",
    "chunk_size = 1000\n",
    "df['text'] = pd.concat([encode_text(chunk) for chunk in \n",
    "                        [df['text'][i:i + chunk_size] for i in range(0, df.shape[0], chunk_size)]])\n",
    "\n",
    "# Сохраняем результаты обратно в CSV\n",
    "df.to_csv('token_lemma_filter_emotion_token.csv', index=False)\n",
    "\n",
    "# Выводим первые 10 строк\n",
    "df.head(10)\n"
   ]
  }
 ],
 "metadata": {
  "kernelspec": {
   "display_name": "Python 3",
   "language": "python",
   "name": "python3"
  },
  "language_info": {
   "codemirror_mode": {
    "name": "ipython",
    "version": 3
   },
   "file_extension": ".py",
   "mimetype": "text/x-python",
   "name": "python",
   "nbconvert_exporter": "python",
   "pygments_lexer": "ipython3",
   "version": "3.12.6"
  }
 },
 "nbformat": 4,
 "nbformat_minor": 2
}
