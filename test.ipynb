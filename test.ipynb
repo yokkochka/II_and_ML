{
 "cells": [
  {
   "cell_type": "code",
   "execution_count": 1,
   "metadata": {},
   "outputs": [
    {
     "name": "stdout",
     "output_type": "stream",
     "text": [
      "('64bit', 'WindowsPE')\n",
      "Заголовки: ['', 'file', 'message', 'subject', 'text', 'date', 'from', 'to', 'emotion_scores']\n",
      "['0', 'allen-p/_sent_mail/1.', \"Message-ID: <18782981.1075855378110.JavaMail.evans@thyme>\\nDate: Mon, 14 May 2001 16:39:00 -0700 (PDT)\\nFrom: phillip.allen@enron.com\\nTo: tim.belden@enron.com\\nSubject: \\nMime-Version: 1.0\\nContent-Type: text/plain; charset=us-ascii\\nContent-Transfer-Encoding: 7bit\\nX-From: Phillip K Allen\\nX-To: Tim Belden <Tim Belden/Enron@EnronXGate>\\nX-cc: \\nX-bcc: \\nX-Folder: \\\\Phillip_Allen_Jan2002_1\\\\Allen, Phillip K.\\\\'Sent Mail\\nX-Origin: Allen-P\\nX-FileName: pallen (Non-Privileged).pst\\n\\nHere is our forecast\\n\\n \", '', 'Here is our forecast\\n\\n ', '2001-05-14 23:39:00+00:00', 'phillip.allen@enron.com', 'tim.belden@enron.com', '[0. 1. 0. 0. 0. 0. 0. 0. 0. 1.]']\n",
      "['1', 'allen-p/_sent_mail/10.', \"Message-ID: <15464986.1075855378456.JavaMail.evans@thyme>\\nDate: Fri, 4 May 2001 13:51:00 -0700 (PDT)\\nFrom: phillip.allen@enron.com\\nTo: john.lavorato@enron.com\\nSubject: Re:\\nMime-Version: 1.0\\nContent-Type: text/plain; charset=us-ascii\\nContent-Transfer-Encoding: 7bit\\nX-From: Phillip K Allen\\nX-To: John J Lavorato <John J Lavorato/ENRON@enronXgate@ENRON>\\nX-cc: \\nX-bcc: \\nX-Folder: \\\\Phillip_Allen_Jan2002_1\\\\Allen, Phillip K.\\\\'Sent Mail\\nX-Origin: Allen-P\\nX-FileName: pallen (Non-Privileged).pst\\n\\nTraveling to have a business meeting takes the fun out of the trip.  Especially if you have to prepare a presentation.  I would suggest holding the business plan meetings here then take a trip without any formal business meetings.  I would even try and get some honest opinions on whether a trip is even desired or necessary.\\n\\nAs far as the business meetings, I think it would be more productive to try and stimulate discussions across the different groups about what is working and what is not.  Too often the presenter speaks and the others are quiet just waiting for their turn.   The meetings might be better if held in a round table discussion format.  \\n\\nMy suggestion for where to go is Austin.  Play golf and rent a ski boat and jet ski's.  Flying somewhere takes too much time.\\n\", '', \"Traveling to have a business meeting takes the fun out of the trip.  Especially if you have to prepare a presentation.  I would suggest holding the business plan meetings here then take a trip without any formal business meetings.  I would even try and get some honest opinions on whether a trip is even desired or necessary.\\n\\nAs far as the business meetings, I think it would be more productive to try and stimulate discussions across the different groups about what is working and what is not.  Too often the presenter speaks and the others are quiet just waiting for their turn.   The meetings might be better if held in a round table discussion format.  \\n\\nMy suggestion for where to go is Austin.  Play golf and rent a ski boat and jet ski's.  Flying somewhere takes too much time.\\n\", '2001-05-04 20:51:00+00:00', 'phillip.allen@enron.com', 'john.lavorato@enron.com', '[0.03571429 0.14285714 0.03571429 0.07142857 0.07142857 0.\\n 0.32142857 0.07142857 0.03571429 0.07142857]']\n",
      "['2', 'allen-p/_sent_mail/100.', \"Message-ID: <24216240.1075855687451.JavaMail.evans@thyme>\\nDate: Wed, 18 Oct 2000 03:00:00 -0700 (PDT)\\nFrom: phillip.allen@enron.com\\nTo: leah.arsdall@enron.com\\nSubject: Re: test\\nMime-Version: 1.0\\nContent-Type: text/plain; charset=us-ascii\\nContent-Transfer-Encoding: 7bit\\nX-From: Phillip K Allen\\nX-To: Leah Van Arsdall\\nX-cc: \\nX-bcc: \\nX-Folder: \\\\Phillip_Allen_Dec2000\\\\Notes Folders\\\\'sent mail\\nX-Origin: Allen-P\\nX-FileName: pallen.nsf\\n\\ntest successful.  way to go!!!\", ' test', 'test successful.  way to go!!!', '2000-10-18 10:00:00+00:00', 'phillip.allen@enron.com', 'leah.arsdall@enron.com', '[0.  0.5 0.  0.  0.5 0.  0.5 0.  0.  0.5]']\n",
      "['3', 'allen-p/_sent_mail/1000.', \"Message-ID: <13505866.1075863688222.JavaMail.evans@thyme>\\nDate: Mon, 23 Oct 2000 06:13:00 -0700 (PDT)\\nFrom: phillip.allen@enron.com\\nTo: randall.gay@enron.com\\nSubject: \\nMime-Version: 1.0\\nContent-Type: text/plain; charset=us-ascii\\nContent-Transfer-Encoding: 7bit\\nX-From: Phillip K Allen\\nX-To: Randall L Gay\\nX-cc: \\nX-bcc: \\nX-Folder: \\\\Phillip_Allen_Dec2000\\\\Notes Folders\\\\'sent mail\\nX-Origin: Allen-P\\nX-FileName: pallen.nsf\\n\\nRandy,\\n\\n Can you send me a schedule of the salary and level of everyone in the \\nscheduling group.  Plus your thoughts on any changes that need to be made.  \\n(Patti S for example)\\n\\nPhillip\", '', 'Randy,\\n\\n Can you send me a schedule of the salary and level of everyone in the \\nscheduling group.  Plus your thoughts on any changes that need to be made.  \\n(Patti S for example)\\n\\nPhillip', '2000-10-23 13:13:00+00:00', 'phillip.allen@enron.com', 'randall.gay@enron.com', '[0.         0.16666667 0.         0.         0.16666667 0.\\n 0.33333333 0.         0.         0.33333333]']\n",
      "['4', 'allen-p/_sent_mail/1001.', \"Message-ID: <30922949.1075863688243.JavaMail.evans@thyme>\\nDate: Thu, 31 Aug 2000 05:07:00 -0700 (PDT)\\nFrom: phillip.allen@enron.com\\nTo: greg.piper@enron.com\\nSubject: Re: Hello\\nMime-Version: 1.0\\nContent-Type: text/plain; charset=us-ascii\\nContent-Transfer-Encoding: 7bit\\nX-From: Phillip K Allen\\nX-To: Greg Piper\\nX-cc: \\nX-bcc: \\nX-Folder: \\\\Phillip_Allen_Dec2000\\\\Notes Folders\\\\'sent mail\\nX-Origin: Allen-P\\nX-FileName: pallen.nsf\\n\\nLet's shoot for Tuesday at 11:45.  \", ' Hello', \"Let's shoot for Tuesday at 11:45.  \", '2000-08-31 12:07:00+00:00', 'phillip.allen@enron.com', 'greg.piper@enron.com', '[1. 0. 0. 1. 0. 1. 0. 0. 0. 0.]']\n",
      "['5', 'allen-p/_sent_mail/1002.', \"Message-ID: <30965995.1075863688265.JavaMail.evans@thyme>\\nDate: Thu, 31 Aug 2000 04:17:00 -0700 (PDT)\\nFrom: phillip.allen@enron.com\\nTo: greg.piper@enron.com\\nSubject: Re: Hello\\nMime-Version: 1.0\\nContent-Type: text/plain; charset=us-ascii\\nContent-Transfer-Encoding: 7bit\\nX-From: Phillip K Allen\\nX-To: Greg Piper\\nX-cc: \\nX-bcc: \\nX-Folder: \\\\Phillip_Allen_Dec2000\\\\Notes Folders\\\\'sent mail\\nX-Origin: Allen-P\\nX-FileName: pallen.nsf\\n\\nGreg,\\n\\n How about either next Tuesday or Thursday?\\n\\nPhillip\", ' Hello', 'Greg,\\n\\n How about either next Tuesday or Thursday?\\n\\nPhillip', '2000-08-31 11:17:00+00:00', 'phillip.allen@enron.com', 'greg.piper@enron.com', '[0. 0. 0. 0. 0. 0. 0. 0. 0. 0.]']\n",
      "['6', 'allen-p/_sent_mail/1003.', \"Message-ID: <16254169.1075863688286.JavaMail.evans@thyme>\\nDate: Tue, 22 Aug 2000 07:44:00 -0700 (PDT)\\nFrom: phillip.allen@enron.com\\nTo: david.l.johnson@enron.com, john.shafer@enron.com\\nSubject: \\nMime-Version: 1.0\\nContent-Type: text/plain; charset=us-ascii\\nContent-Transfer-Encoding: 7bit\\nX-From: Phillip K Allen\\nX-To: david.l.johnson@enron.com, John Shafer\\nX-cc: \\nX-bcc: \\nX-Folder: \\\\Phillip_Allen_Dec2000\\\\Notes Folders\\\\'sent mail\\nX-Origin: Allen-P\\nX-FileName: pallen.nsf\\n\\nPlease cc the following distribution list with updates:\\n\\nPhillip Allen (pallen@enron.com)\\nMike Grigsby (mike.grigsby@enron.com)\\nKeith Holst (kholst@enron.com)\\nMonique Sanchez\\nFrank Ermis\\nJohn Lavorato\\n\\n\\nThank you for your help\\n\\nPhillip Allen\\n\", '', 'Please cc the following distribution list with updates:\\n\\nPhillip Allen (pallen@enron.com)\\nMike Grigsby (mike.grigsby@enron.com)\\nKeith Holst (kholst@enron.com)\\nMonique Sanchez\\nFrank Ermis\\nJohn Lavorato\\n\\n\\nThank you for your help\\n\\nPhillip Allen\\n', '2000-08-22 14:44:00+00:00', 'phillip.allen@enron.com', 'david.l.johnson@enron.com, john.shafer@enron.com', '[0.  0.  0.2 0.  0.  0.2 0.2 0.  0.  0.2]']\n",
      "['7', 'allen-p/_sent_mail/1004.', \"Message-ID: <17189699.1075863688308.JavaMail.evans@thyme>\\nDate: Fri, 14 Jul 2000 06:59:00 -0700 (PDT)\\nFrom: phillip.allen@enron.com\\nTo: joyce.teixeira@enron.com\\nSubject: Re: PRC review - phone calls\\nMime-Version: 1.0\\nContent-Type: text/plain; charset=us-ascii\\nContent-Transfer-Encoding: 7bit\\nX-From: Phillip K Allen\\nX-To: Joyce Teixeira\\nX-cc: \\nX-bcc: \\nX-Folder: \\\\Phillip_Allen_Dec2000\\\\Notes Folders\\\\'sent mail\\nX-Origin: Allen-P\\nX-FileName: pallen.nsf\\n\\nany morning between 10 and 11:30\", ' PRC review - phone calls', 'any morning between 10 and 11:30', '2000-07-14 13:59:00+00:00', 'phillip.allen@enron.com', 'joyce.teixeira@enron.com', '[0.   0.25 0.   0.   0.   0.25 0.   0.   0.   0.25]']\n",
      "['8', 'allen-p/_sent_mail/101.', \"Message-ID: <20641191.1075855687472.JavaMail.evans@thyme>\\nDate: Tue, 17 Oct 2000 02:26:00 -0700 (PDT)\\nFrom: phillip.allen@enron.com\\nTo: mark.scott@enron.com\\nSubject: Re: High Speed Internet Access\\nMime-Version: 1.0\\nContent-Type: text/plain; charset=us-ascii\\nContent-Transfer-Encoding: 7bit\\nX-From: Phillip K Allen\\nX-To: Mark Scott\\nX-cc: \\nX-bcc: \\nX-Folder: \\\\Phillip_Allen_Dec2000\\\\Notes Folders\\\\'sent mail\\nX-Origin: Allen-P\\nX-FileName: pallen.nsf\\n\\n1. login:  pallen pw: ke9davis\\n\\n I don't think these are required by the ISP \\n\\n  2.  static IP address\\n\\n IP: 64.216.90.105\\n Sub: 255.255.255.248\\n gate: 64.216.90.110\\n DNS: 151.164.1.8\\n\\n  3.  Company: 0413\\n        RC:  105891\", ' High Speed Internet Access', \"1. login:  pallen pw: ke9davis\\n\\n I don't think these are required by the ISP \\n\\n  2.  static IP address\\n\\n IP: 64.216.90.105\\n Sub: 255.255.255.248\\n gate: 64.216.90.110\\n DNS: 151.164.1.8\\n\\n  3.  Company: 0413\\n        RC:  105891\", '2000-10-17 09:26:00+00:00', 'phillip.allen@enron.com', 'mark.scott@enron.com', '[0.    0.    0.    0.    0.    0.    0.    0.    0.    0.125]']\n",
      "['10', 'allen-p/_sent_mail/103.', 'Message-ID: <33076797.1075855687515.JavaMail.evans@thyme>\\nDate: Mon, 16 Oct 2000 06:42:00 -0700 (PDT)\\nFrom: phillip.allen@enron.com\\nTo: buck.buckner@honeywell.com\\nSubject: Re: FW: fixed forward or other Collar floor gas price terms\\nMime-Version: 1.0\\nContent-Type: text/plain; charset=us-ascii\\nContent-Transfer-Encoding: 7bit\\nX-From: Phillip K Allen\\nX-To: \"Buckner, Buck\" <buck.buckner@honeywell.com> @ ENRON\\nX-cc: \\nX-bcc: \\nX-Folder: \\\\Phillip_Allen_Dec2000\\\\Notes Folders\\\\\\'sent mail\\nX-Origin: Allen-P\\nX-FileName: pallen.nsf\\n\\nMr. Buckner,\\n\\n For delivered gas behind San Diego, Enron Energy Services is the appropriate \\nEnron entity.  I have forwarded your request to Zarin Imam at EES.  Her phone \\nnumber is 713-853-7107.  \\n\\nPhillip Allen', ' FW: fixed forward or other Collar floor gas price terms', 'Mr. Buckner,\\n\\n For delivered gas behind San Diego, Enron Energy Services is the appropriate \\nEnron entity.  I have forwarded your request to Zarin Imam at EES.  Her phone \\nnumber is 713-853-7107.  \\n\\nPhillip Allen', '2000-10-16 13:42:00+00:00', 'phillip.allen@enron.com', 'buck.buckner@honeywell.com', '[0.         0.         0.         0.         0.         0.\\n 0.07692308 0.         0.         0.07692308]']\n"
     ]
    }
   ],
   "source": [
    "import csv\n",
    "import sys\n",
    "\n",
    "import platform\n",
    "print(platform.architecture())\n",
    "\n",
    "csv.field_size_limit(10**6)\n",
    "\n",
    "with open('emotions.csv', 'r') as f:\n",
    "    reader = csv.reader(f)\n",
    "    names = next(reader) \n",
    "    print(f\"Заголовки: {names}\")\n",
    "\n",
    "    for i, row in enumerate(reader):\n",
    "        if i < 10:\n",
    "            print(row)\n",
    "        else:\n",
    "            break\n"
   ]
  },
  {
   "cell_type": "code",
   "execution_count": 2,
   "metadata": {},
   "outputs": [
    {
     "ename": "ModuleNotFoundError",
     "evalue": "No module named 'pandas'",
     "output_type": "error",
     "traceback": [
      "\u001b[1;31m---------------------------------------------------------------------------\u001b[0m",
      "\u001b[1;31mModuleNotFoundError\u001b[0m                       Traceback (most recent call last)",
      "Cell \u001b[1;32mIn[2], line 1\u001b[0m\n\u001b[1;32m----> 1\u001b[0m \u001b[38;5;28;01mimport\u001b[39;00m \u001b[38;5;21;01mpandas\u001b[39;00m \u001b[38;5;28;01mas\u001b[39;00m \u001b[38;5;21;01mpd\u001b[39;00m\n\u001b[0;32m      2\u001b[0m \u001b[38;5;28;01mimport\u001b[39;00m \u001b[38;5;21;01mseaborn\u001b[39;00m \u001b[38;5;28;01mas\u001b[39;00m \u001b[38;5;21;01msns\u001b[39;00m\n\u001b[0;32m      3\u001b[0m \u001b[38;5;28;01mimport\u001b[39;00m \u001b[38;5;21;01mmatplotlib\u001b[39;00m\u001b[38;5;21;01m.\u001b[39;00m\u001b[38;5;21;01mpyplot\u001b[39;00m \u001b[38;5;28;01mas\u001b[39;00m \u001b[38;5;21;01mplt\u001b[39;00m\n",
      "\u001b[1;31mModuleNotFoundError\u001b[0m: No module named 'pandas'"
     ]
    }
   ],
   "source": [
    "import pandas as pd\n",
    "import seaborn as sns\n",
    "import matplotlib.pyplot as plt\n",
    "\n",
    "df = pd.read_csv('emotions.csv')\n",
    "\n",
    "df['date'] = pd.to_datetime(df['date'])\n",
    "\n",
    "df['date_interval'] = df['date'].dt.hour\n",
    "\n",
    "sns.histplot(df['date_interval'].astype(int), bins=24, kde=False) \n",
    "plt.xlabel('Hours')\n",
    "plt.ylabel('Frequency')\n",
    "plt.title('Histogram of Date Intervals')\n",
    "plt.show()\n"
   ]
  },
  {
   "cell_type": "code",
   "execution_count": 6,
   "metadata": {},
   "outputs": [
    {
     "ename": "Error",
     "evalue": "field larger than field limit (1000000)",
     "output_type": "error",
     "traceback": [
      "\u001b[1;31m---------------------------------------------------------------------------\u001b[0m",
      "\u001b[1;31mError\u001b[0m                                     Traceback (most recent call last)",
      "Cell \u001b[1;32mIn[6], line 11\u001b[0m\n\u001b[0;32m      8\u001b[0m reader \u001b[38;5;241m=\u001b[39m csv\u001b[38;5;241m.\u001b[39mreader(f)\n\u001b[0;32m      9\u001b[0m names \u001b[38;5;241m=\u001b[39m \u001b[38;5;28mnext\u001b[39m(reader)  \n\u001b[1;32m---> 11\u001b[0m \u001b[43m\u001b[49m\u001b[38;5;28;43;01mfor\u001b[39;49;00m\u001b[43m \u001b[49m\u001b[43mi\u001b[49m\u001b[43m,\u001b[49m\u001b[43m \u001b[49m\u001b[43mrow\u001b[49m\u001b[43m \u001b[49m\u001b[38;5;129;43;01min\u001b[39;49;00m\u001b[43m \u001b[49m\u001b[38;5;28;43menumerate\u001b[39;49m\u001b[43m(\u001b[49m\u001b[43mreader\u001b[49m\u001b[43m)\u001b[49m\u001b[43m:\u001b[49m\n\u001b[0;32m     12\u001b[0m \u001b[43m    \u001b[49m\u001b[43mscores\u001b[49m\u001b[43m \u001b[49m\u001b[38;5;241;43m=\u001b[39;49m\u001b[43m \u001b[49m\u001b[43m[\u001b[49m\u001b[38;5;28;43mfloat\u001b[39;49m\u001b[43m(\u001b[49m\u001b[43mx\u001b[49m\u001b[43m)\u001b[49m\u001b[43m \u001b[49m\u001b[38;5;28;43;01mfor\u001b[39;49;00m\u001b[43m \u001b[49m\u001b[43mx\u001b[49m\u001b[43m \u001b[49m\u001b[38;5;129;43;01min\u001b[39;49;00m\u001b[43m \u001b[49m\u001b[43mrow\u001b[49m\u001b[43m[\u001b[49m\u001b[38;5;241;43m-\u001b[39;49m\u001b[38;5;241;43m1\u001b[39;49m\u001b[43m]\u001b[49m\u001b[38;5;241;43m.\u001b[39;49m\u001b[43mstrip\u001b[49m\u001b[43m(\u001b[49m\u001b[38;5;124;43m'\u001b[39;49m\u001b[38;5;124;43m[]\u001b[39;49m\u001b[38;5;124;43m'\u001b[39;49m\u001b[43m)\u001b[49m\u001b[38;5;241;43m.\u001b[39;49m\u001b[43msplit\u001b[49m\u001b[43m(\u001b[49m\u001b[43m)\u001b[49m\u001b[43m]\u001b[49m\u001b[43m \u001b[49m\n\u001b[0;32m     13\u001b[0m \u001b[43m    \u001b[49m\u001b[43memotion_scores\u001b[49m\u001b[38;5;241;43m.\u001b[39;49m\u001b[43mappend\u001b[49m\u001b[43m(\u001b[49m\u001b[43m(\u001b[49m\u001b[43m(\u001b[49m\u001b[38;5;28;43msum\u001b[39;49m\u001b[43m(\u001b[49m\u001b[43mscores\u001b[49m\u001b[43m)\u001b[49m\u001b[43m \u001b[49m\u001b[38;5;241;43m*\u001b[39;49m\u001b[43m \u001b[49m\u001b[38;5;241;43m10\u001b[39;49m\u001b[43m)\u001b[49m\u001b[43m \u001b[49m\u001b[38;5;241;43m/\u001b[39;49m\u001b[38;5;241;43m/\u001b[39;49m\u001b[43m \u001b[49m\u001b[38;5;241;43m1\u001b[39;49m\u001b[43m)\u001b[49m\u001b[43m \u001b[49m\u001b[38;5;241;43m/\u001b[39;49m\u001b[43m \u001b[49m\u001b[38;5;241;43m10\u001b[39;49m\u001b[43m)\u001b[49m  \n",
      "\u001b[1;31mError\u001b[0m: field larger than field limit (1000000)"
     ]
    }
   ],
   "source": [
    "import matplotlib.pyplot as plt\n",
    "import csv\n",
    "from collections import Counter\n",
    "\n",
    "emotion_scores = []\n",
    "\n",
    "with open('emotions.csv', 'r') as f:\n",
    "    reader = csv.reader(f)\n",
    "    names = next(reader)  \n",
    "\n",
    "    for i, row in enumerate(reader):\n",
    "        scores = [float(x) for x in row[-1].strip('[]').split()] \n",
    "        emotion_scores.append(((sum(scores) * 10) // 1) / 10)  \n",
    "\n",
    "print(emotion_scores)\n",
    "\n",
    "emotion_counts = Counter(emotion_scores)\n",
    "\n",
    "labels = [f'Emotion {key}' for key in emotion_counts.keys()]\n",
    "sizes = list(emotion_counts.values())\n",
    "\n",
    "plt.figure(figsize=(7, 7))\n",
    "plt.pie(sizes, labels=labels, autopct='%1.1f%%')\n",
    "plt.title('Emotion Scores Distribution (with duplicates aggregated)')\n",
    "plt.show()\n"
   ]
  }
 ],
 "metadata": {
  "kernelspec": {
   "display_name": "Python 3",
   "language": "python",
   "name": "python3"
  },
  "language_info": {
   "codemirror_mode": {
    "name": "ipython",
    "version": 3
   },
   "file_extension": ".py",
   "mimetype": "text/x-python",
   "name": "python",
   "nbconvert_exporter": "python",
   "pygments_lexer": "ipython3",
   "version": "3.11.9"
  }
 },
 "nbformat": 4,
 "nbformat_minor": 2
}
